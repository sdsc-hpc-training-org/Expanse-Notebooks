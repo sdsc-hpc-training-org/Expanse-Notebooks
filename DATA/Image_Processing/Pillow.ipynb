{
 "cells": [
  {
   "cell_type": "markdown",
   "metadata": {},
   "source": [
    "## Source Information\n",
    "---\n",
    "**Created by**: \n",
    "\n",
    "**Updated by**: October 01, 2024 by Gloria Seo\n",
    "\n",
    "**Resources**: https://matplotlib.org/\n",
    "\n",
    "---"
   ]
  },
  {
   "cell_type": "markdown",
   "metadata": {},
   "source": [
    "# Goal\n",
    "This notebook introduces the **Pillow** library, covering how to load, manipulate, and process images, while exploring its extensive file format support and powerful image processing features."
   ]
  },
  {
   "cell_type": "markdown",
   "metadata": {},
   "source": [
    "# Image Processing\n",
    "\n",
    "The Python Imaging Library (PILLOW) adds image processing capabilities to your Python interpreter.\n",
    "\n",
    "This library provides extensive file format support, an efficient internal representation, and fairly powerful image processing capabilities.\n",
    "\n",
    "The core image library is designed for fast access to data stored in a few basic pixel formats. It should provide a solid foundation for a general image processing tool.\n",
    "\n",
    "This chapter will give you an introduction to PILLOW packages. Enjoy!"
   ]
  },
  {
   "cell_type": "markdown",
   "metadata": {},
   "source": [
    "## Required Modules for the Jupyter Notebook\n",
    "\n",
    "Before running the notebook, we need to load the following modules.\n",
    "\n",
    "**Module: PIL , Image, ImageFilter, ImageEhance, Sys** "
   ]
  },
  {
   "cell_type": "code",
   "execution_count": 1,
   "metadata": {},
   "outputs": [],
   "source": [
    "from PIL import Image\n",
    "import sys\n",
    "from PIL import ImageFilter\n",
    "from PIL import ImageEnhance"
   ]
  },
  {
   "cell_type": "markdown",
   "metadata": {},
   "source": [
    "## Importing an image"
   ]
  },
  {
   "cell_type": "markdown",
   "metadata": {},
   "source": [
    "Load an image using the Image.open command and setting it to a variable."
   ]
  },
  {
   "cell_type": "code",
   "execution_count": 2,
   "metadata": {},
   "outputs": [],
   "source": [
    "im = Image.open(\"image.jpg\")"
   ]
  },
  {
   "cell_type": "markdown",
   "metadata": {},
   "source": [
    "Now you can examine the image specs using the print function."
   ]
  },
  {
   "cell_type": "code",
   "execution_count": 3,
   "metadata": {},
   "outputs": [
    {
     "name": "stdout",
     "output_type": "stream",
     "text": [
      "JPEG (317, 301) RGB\n"
     ]
    }
   ],
   "source": [
    "print(im.format, im.size, im.mode)"
   ]
  },
  {
   "cell_type": "markdown",
   "metadata": {},
   "source": [
    "The format shows the file type or source of the image. The size prints out the image size in pixels. The mode shows the coloring mode which in this case should be RGB."
   ]
  },
  {
   "cell_type": "markdown",
   "metadata": {},
   "source": [
    "Now lets print out the image using the show command."
   ]
  },
  {
   "cell_type": "code",
   "execution_count": 4,
   "metadata": {},
   "outputs": [],
   "source": [
    "im.show()"
   ]
  },
  {
   "cell_type": "markdown",
   "metadata": {},
   "source": [
    "This should open up a new tab that has the image in it. Show however is very buggy at the moment. So we will only use it a few times. You can try to open up the image in draft mode which is an opened but not loaded image which may be useful for some situations."
   ]
  },
  {
   "cell_type": "code",
   "execution_count": 5,
   "metadata": {},
   "outputs": [
    {
     "name": "stdout",
     "output_type": "stream",
     "text": [
      "original = RGB (317, 301)\n",
      "draft = L (159, 151)\n"
     ]
    }
   ],
   "source": [
    "with Image.open(\"image.jpg\") as im:\n",
    "    print(\"original =\", im.mode, im.size)\n",
    "\n",
    "    im.draft(\"L\", (100, 100))\n",
    "    print(\"draft =\", im.mode, im.size)"
   ]
  },
  {
   "cell_type": "markdown",
   "metadata": {},
   "source": [
    "## Manipulating Images"
   ]
  },
  {
   "cell_type": "markdown",
   "metadata": {},
   "source": [
    "We will now get to manipulating image types. First lets look at identifying your image type."
   ]
  },
  {
   "cell_type": "code",
   "execution_count": 6,
   "metadata": {},
   "outputs": [
    {
     "name": "stdout",
     "output_type": "stream",
     "text": [
      "-f JPEG 317x301 RGB\n",
      "/home/amehrotra1/.jupyter/runtime/kernel-8b48e399-1bb3-4281-a72c-88a6e6f0d9d1.json JPEG 317x301 RGB\n"
     ]
    }
   ],
   "source": [
    "for infile in sys.argv[1:]:\n",
    "    try:\n",
    "        with Image.open(\"image.jpg\") as im:\n",
    "            print(infile, im.format, \"%dx%d\" % im.size, im.mode)\n",
    "    except OSError:\n",
    "        pass"
   ]
  },
  {
   "cell_type": "markdown",
   "metadata": {},
   "source": [
    "Cropping images is with the crop command. Define the pixel size and it will crop."
   ]
  },
  {
   "cell_type": "code",
   "execution_count": 7,
   "metadata": {},
   "outputs": [],
   "source": [
    "im = Image.open(\"Blank_world_map-6.png\")\n",
    "box = (10, 10, 40, 40)\n",
    "region = im.crop(box)\n",
    "region.show()"
   ]
  },
  {
   "cell_type": "markdown",
   "metadata": {},
   "source": [
    "The Filter method allows you to put filters over you images. So you can automate image filtering if you iterate through a folder."
   ]
  },
  {
   "cell_type": "code",
   "execution_count": 8,
   "metadata": {},
   "outputs": [],
   "source": [
    "im = Image.open(\"image.jpg\")\n",
    "out = im.filter(ImageFilter.BLUR)\n",
    "out.show()"
   ]
  },
  {
   "cell_type": "markdown",
   "metadata": {},
   "source": [
    "Image enhancing can be done with the ImageEnhance function."
   ]
  },
  {
   "cell_type": "code",
   "execution_count": 9,
   "metadata": {},
   "outputs": [],
   "source": [
    "im = Image.open(\"face.jpg\")\n",
    "enh = ImageEnhance.Contrast(im)\n",
    "enh.enhance(1.3).show(\"30% more contrast\")"
   ]
  },
  {
   "cell_type": "code",
   "execution_count": 10,
   "metadata": {},
   "outputs": [],
   "source": [
    "Col = ImageEnhance.Color(im)\n",
    "Con = ImageEnhance.Contrast(im)\n",
    "Bright = ImageEnhance.Brightness(im)\n",
    "Sharp = ImageEnhance.Sharpness(im)"
   ]
  },
  {
   "cell_type": "markdown",
   "metadata": {},
   "source": [
    "Those are all of the functions you can edit for the image using PIL."
   ]
  },
  {
   "cell_type": "markdown",
   "metadata": {},
   "source": [
    "You can scale images using point transformations."
   ]
  },
  {
   "cell_type": "code",
   "execution_count": 11,
   "metadata": {},
   "outputs": [],
   "source": [
    "out = im.point(lambda i: i * 1.2)\n",
    "im.show()\n",
    "out.show()"
   ]
  },
  {
   "cell_type": "markdown",
   "metadata": {},
   "source": [
    "When you compare both images. You can see one image is clearly large than the other."
   ]
  },
  {
   "cell_type": "markdown",
   "metadata": {},
   "source": [
    "## Submit Ticket\n",
    "If you find anything that needs to be changed, edited, or if you would like to provide feedback or contribute to the notebook, please submit a ticket by contacting us at:\n",
    "\n",
    "Email: consult@sdsc.edu\n",
    "\n",
    "We appreciate your input and will review your suggestions promptly!"
   ]
  }
 ],
 "metadata": {
  "kernelspec": {
   "display_name": "Python 3",
   "language": "python",
   "name": "python3"
  },
  "language_info": {
   "codemirror_mode": {
    "name": "ipython",
    "version": 3
   },
   "file_extension": ".py",
   "mimetype": "text/x-python",
   "name": "python",
   "nbconvert_exporter": "python",
   "pygments_lexer": "ipython3",
   "version": "3.8.5"
  }
 },
 "nbformat": 4,
 "nbformat_minor": 4
}
