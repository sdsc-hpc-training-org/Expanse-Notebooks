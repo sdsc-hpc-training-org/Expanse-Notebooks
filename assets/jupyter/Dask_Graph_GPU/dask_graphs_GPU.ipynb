{
 "cells": [
  {
   "cell_type": "markdown",
   "metadata": {},
   "source": [
    "## Source Information\n",
    "---\n",
    "**Created by**: Bob Sinkovits \n",
    "\n",
    "**Updated by**: October 25, 2024 by Gloria Seo\n",
    "\n",
    "**Resources**: https://github.com/sinkovit/PythonSeries\n",
    "\n",
    "---"
   ]
  },
  {
   "cell_type": "markdown",
   "metadata": {},
   "source": [
    "## Goal\n",
    "This Jupyter notebook demonstrates how to use the Dask library for parallel processing, specifically focusing on visualizing the task graphs (DAGs) that Dask creates to efficiently manage dependencies and computation on chunked data."
   ]
  },
  {
   "cell_type": "markdown",
   "metadata": {},
   "source": [
    "# Dask Graphs"
   ]
  },
  {
   "cell_type": "markdown",
   "metadata": {},
   "source": [
    "The key element of `dask` is the scheduler which builds a Direct Acyclic Graph of all the operations to be executed on each chunk of data to compute the final result.\n",
    "\n",
    "The DAG is the key feature that allows `dask` to understand the dependency graph between all the steps in a set of computations and parallelize accordingly."
   ]
  },
  {
   "cell_type": "markdown",
   "metadata": {},
   "source": [
    "## Required Modules for the Jupyter Notebook\n",
    "Before running the notebook, make sure to load the following modules.\n",
    "\n",
    "**Module: dask, cupy, graphviz** "
   ]
  },
  {
   "cell_type": "code",
   "execution_count": 1,
   "metadata": {},
   "outputs": [
    {
     "ename": "ModuleNotFoundError",
     "evalue": "No module named 'cupy'",
     "output_type": "error",
     "traceback": [
      "\u001b[0;31m---------------------------------------------------------------------------\u001b[0m",
      "\u001b[0;31mModuleNotFoundError\u001b[0m                       Traceback (most recent call last)",
      "\u001b[0;32m<ipython-input-1-b212f55aa777>\u001b[0m in \u001b[0;36m<module>\u001b[0;34m\u001b[0m\n\u001b[1;32m      1\u001b[0m \u001b[0;32mimport\u001b[0m \u001b[0mdask\u001b[0m\u001b[0;34m.\u001b[0m\u001b[0marray\u001b[0m \u001b[0;32mas\u001b[0m \u001b[0mda\u001b[0m\u001b[0;34m\u001b[0m\u001b[0;34m\u001b[0m\u001b[0m\n\u001b[0;32m----> 2\u001b[0;31m \u001b[0;32mimport\u001b[0m \u001b[0mcupy\u001b[0m \u001b[0;32mas\u001b[0m \u001b[0mcp\u001b[0m\u001b[0;34m\u001b[0m\u001b[0;34m\u001b[0m\u001b[0m\n\u001b[0m\u001b[1;32m      3\u001b[0m \u001b[0;32mfrom\u001b[0m \u001b[0mdask\u001b[0m \u001b[0;32mimport\u001b[0m \u001b[0marray\u001b[0m \u001b[0;32mas\u001b[0m \u001b[0mda\u001b[0m\u001b[0;34m\u001b[0m\u001b[0;34m\u001b[0m\u001b[0m\n",
      "\u001b[0;31mModuleNotFoundError\u001b[0m: No module named 'cupy'"
     ]
    }
   ],
   "source": [
    "import dask.array as da\n",
    "import cupy as cp \n",
    "from dask import array as da\n"
   ]
  },
  {
   "cell_type": "markdown",
   "metadata": {},
   "source": [
    "As I needed to install the Graphviz package, I have installed it using the pip command."
   ]
  },
  {
   "cell_type": "code",
   "execution_count": 2,
   "metadata": {},
   "outputs": [
    {
     "name": "stdout",
     "output_type": "stream",
     "text": [
      "Defaulting to user installation because normal site-packages is not writeable\n",
      "Requirement already satisfied: graphviz in /home/amehrotra1/.local/lib/python3.8/site-packages (0.20.3)\n",
      "Note: you may need to restart the kernel to use updated packages.\n"
     ]
    }
   ],
   "source": [
    "pip install graphviz"
   ]
  },
  {
   "cell_type": "code",
   "execution_count": 3,
   "metadata": {},
   "outputs": [],
   "source": [
    "import graphviz"
   ]
  },
  {
   "cell_type": "code",
   "execution_count": 4,
   "metadata": {},
   "outputs": [
    {
     "name": "stdout",
     "output_type": "stream",
     "text": [
      "Defaulting to user installation because normal site-packages is not writeable\n",
      "Collecting cupy\n",
      "  Downloading cupy-12.3.0.tar.gz (1.8 MB)\n",
      "\u001b[K     |████████████████████████████████| 1.8 MB 16.2 MB/s eta 0:00:01\n",
      "\u001b[?25hCollecting numpy<1.29,>=1.20\n",
      "  Downloading numpy-1.24.4-cp38-cp38-manylinux_2_17_x86_64.manylinux2014_x86_64.whl (17.3 MB)\n",
      "\u001b[K     |████████████████████████████████| 17.3 MB 131.3 MB/s eta 0:00:01\n",
      "\u001b[?25hCollecting fastrlock>=0.5\n",
      "  Using cached fastrlock-0.8.3-cp38-cp38-manylinux_2_5_x86_64.manylinux1_x86_64.manylinux_2_24_x86_64.whl (51 kB)\n",
      "Building wheels for collected packages: cupy\n",
      "  Building wheel for cupy (setup.py) ... \u001b[?25lerror\n",
      "\u001b[31m  ERROR: Command errored out with exit status 1:\n",
      "   command: /cm/shared/apps/spack/cpu/opt/spack/linux-centos8-zen/gcc-8.3.1/anaconda3-2020.11-da3i7hmt6bdqbmuzq6pyt7kbm47wyrjp/bin/python -u -c 'import sys, setuptools, tokenize; sys.argv[0] = '\"'\"'/scratch/amehrotra1/job_38027192/pip-install-azgnxc31/cupy/setup.py'\"'\"'; __file__='\"'\"'/scratch/amehrotra1/job_38027192/pip-install-azgnxc31/cupy/setup.py'\"'\"';f=getattr(tokenize, '\"'\"'open'\"'\"', open)(__file__);code=f.read().replace('\"'\"'\\r\\n'\"'\"', '\"'\"'\\n'\"'\"');f.close();exec(compile(code, __file__, '\"'\"'exec'\"'\"'))' bdist_wheel -d /scratch/amehrotra1/job_38027192/pip-wheel-gldkog6o\n",
      "       cwd: /scratch/amehrotra1/job_38027192/pip-install-azgnxc31/cupy/\n",
      "  Complete output (62 lines):\n",
      "  Clearing directory: /scratch/amehrotra1/job_38027192/pip-install-azgnxc31/cupy/cupy/.data\n",
      "  \n",
      "  -------- Configuring Module: cuda --------\n",
      "  cc1plus: warning: command line option ‘-Wstrict-prototypes’ is valid for C/ObjC but not for C++\n",
      "  /scratch/amehrotra1/job_38027192/tmpccbcj891/a.cpp:1:10: fatal error: cublas_v2.h: No such file or directory\n",
      "   #include <cublas_v2.h>\n",
      "            ^~~~~~~~~~~~~\n",
      "  compilation terminated.\n",
      "  command 'gcc' failed with exit status 1\n",
      "  cc1plus: warning: command line option ‘-Wstrict-prototypes’ is valid for C/ObjC but not for C++\n",
      "  /scratch/amehrotra1/job_38027192/tmp18yn909f/a.cpp:2:18: fatal error: cuda_runtime_api.h: No such file or directory\n",
      "           #include <cuda_runtime_api.h>\n",
      "                    ^~~~~~~~~~~~~~~~~~~~\n",
      "  compilation terminated.\n",
      "  **************************************************\n",
      "  *** WARNING: Cannot check compute capability\n",
      "  command 'gcc' failed with exit status 1\n",
      "  **************************************************\n",
      "  \n",
      "  ************************************************************\n",
      "  * CuPy Configuration Summary                               *\n",
      "  ************************************************************\n",
      "  \n",
      "  Build Environment:\n",
      "    Include directories: ['/scratch/amehrotra1/job_38027192/pip-install-azgnxc31/cupy/cupy/_core/include/cupy/cub', '/scratch/amehrotra1/job_38027192/pip-install-azgnxc31/cupy/cupy/_core/include']\n",
      "    Library directories: []\n",
      "    nvcc command       : (not found)\n",
      "    hipcc command      : (not found)\n",
      "  \n",
      "  Environment Variables:\n",
      "    CFLAGS          : (none)\n",
      "    LDFLAGS         : (none)\n",
      "    LIBRARY_PATH    : /cm/shared/apps/spack/cpu/opt/spack/linux-centos8-zen/gcc-8.3.1/anaconda3-2020.11-da3i7hmt6bdqbmuzq6pyt7kbm47wyrjp/lib:/cm/shared/apps/slurm/current/lib64/slurm:/cm/shared/apps/slurm/current/lib64\n",
      "    CUDA_PATH       : (none)\n",
      "    NVCC            : (none)\n",
      "    HIPCC           : (none)\n",
      "    ROCM_HOME       : (none)\n",
      "  \n",
      "  Modules:\n",
      "    cuda      : No\n",
      "      -> Include files not found: ['cublas_v2.h', 'cuda.h', 'cuda_profiler_api.h', 'cuda_runtime.h', 'cufft.h', 'curand.h', 'cusparse.h', 'nvrtc.h']\n",
      "      -> Check your CFLAGS environment variable.\n",
      "  \n",
      "  ERROR: CUDA could not be found on your system.\n",
      "  \n",
      "  HINT: You are trying to build CuPy from source, which is NOT recommended for general use.\n",
      "        Please consider using binary packages instead.\n",
      "  \n",
      "  Please refer to the Installation Guide for details:\n",
      "  https://docs.cupy.dev/en/stable/install.html\n",
      "  \n",
      "  ************************************************************\n",
      "  \n",
      "  Traceback (most recent call last):\n",
      "    File \"<string>\", line 1, in <module>\n",
      "    File \"/scratch/amehrotra1/job_38027192/pip-install-azgnxc31/cupy/setup.py\", line 88, in <module>\n",
      "      ext_modules = cupy_setup_build.get_ext_modules(True, ctx)\n",
      "    File \"/scratch/amehrotra1/job_38027192/pip-install-azgnxc31/cupy/install/cupy_builder/cupy_setup_build.py\", line 449, in get_ext_modules\n",
      "      extensions = make_extensions(ctx, compiler, use_cython)\n",
      "    File \"/scratch/amehrotra1/job_38027192/pip-install-azgnxc31/cupy/install/cupy_builder/cupy_setup_build.py\", line 305, in make_extensions\n",
      "      raise Exception('Your CUDA environment is invalid. '\n",
      "  Exception: Your CUDA environment is invalid. Please check above error log.\n",
      "  ----------------------------------------\u001b[0m\n",
      "\u001b[31m  ERROR: Failed building wheel for cupy\u001b[0m\n",
      "\u001b[?25h  Running setup.py clean for cupy\n",
      "\u001b[31m  ERROR: Command errored out with exit status 1:\n",
      "   command: /cm/shared/apps/spack/cpu/opt/spack/linux-centos8-zen/gcc-8.3.1/anaconda3-2020.11-da3i7hmt6bdqbmuzq6pyt7kbm47wyrjp/bin/python -u -c 'import sys, setuptools, tokenize; sys.argv[0] = '\"'\"'/scratch/amehrotra1/job_38027192/pip-install-azgnxc31/cupy/setup.py'\"'\"'; __file__='\"'\"'/scratch/amehrotra1/job_38027192/pip-install-azgnxc31/cupy/setup.py'\"'\"';f=getattr(tokenize, '\"'\"'open'\"'\"', open)(__file__);code=f.read().replace('\"'\"'\\r\\n'\"'\"', '\"'\"'\\n'\"'\"');f.close();exec(compile(code, __file__, '\"'\"'exec'\"'\"'))' clean --all\n",
      "       cwd: /scratch/amehrotra1/job_38027192/pip-install-azgnxc31/cupy\n",
      "  Complete output (62 lines):\n",
      "  Clearing directory: /scratch/amehrotra1/job_38027192/pip-install-azgnxc31/cupy/cupy/.data\n",
      "  \n",
      "  -------- Configuring Module: cuda --------\n",
      "  cc1plus: warning: command line option ‘-Wstrict-prototypes’ is valid for C/ObjC but not for C++\n",
      "  /scratch/amehrotra1/job_38027192/tmpuwhh9o4i/a.cpp:1:10: fatal error: cublas_v2.h: No such file or directory\n",
      "   #include <cublas_v2.h>\n",
      "            ^~~~~~~~~~~~~\n",
      "  compilation terminated.\n",
      "  command 'gcc' failed with exit status 1\n",
      "  cc1plus: warning: command line option ‘-Wstrict-prototypes’ is valid for C/ObjC but not for C++\n",
      "  /scratch/amehrotra1/job_38027192/tmp3m3y9tvl/a.cpp:2:18: fatal error: cuda_runtime_api.h: No such file or directory\n",
      "           #include <cuda_runtime_api.h>\n",
      "                    ^~~~~~~~~~~~~~~~~~~~\n",
      "  compilation terminated.\n",
      "  **************************************************\n",
      "  *** WARNING: Cannot check compute capability\n",
      "  command 'gcc' failed with exit status 1\n",
      "  **************************************************\n",
      "  \n",
      "  ************************************************************\n",
      "  * CuPy Configuration Summary                               *\n",
      "  ************************************************************\n",
      "  \n",
      "  Build Environment:\n",
      "    Include directories: ['/scratch/amehrotra1/job_38027192/pip-install-azgnxc31/cupy/cupy/_core/include/cupy/cub', '/scratch/amehrotra1/job_38027192/pip-install-azgnxc31/cupy/cupy/_core/include']\n",
      "    Library directories: []\n",
      "    nvcc command       : (not found)\n",
      "    hipcc command      : (not found)\n",
      "  \n",
      "  Environment Variables:\n",
      "    CFLAGS          : (none)\n",
      "    LDFLAGS         : (none)\n",
      "    LIBRARY_PATH    : /cm/shared/apps/spack/cpu/opt/spack/linux-centos8-zen/gcc-8.3.1/anaconda3-2020.11-da3i7hmt6bdqbmuzq6pyt7kbm47wyrjp/lib:/cm/shared/apps/slurm/current/lib64/slurm:/cm/shared/apps/slurm/current/lib64\n",
      "    CUDA_PATH       : (none)\n",
      "    NVCC            : (none)\n",
      "    HIPCC           : (none)\n",
      "    ROCM_HOME       : (none)\n",
      "  \n",
      "  Modules:\n",
      "    cuda      : No\n",
      "      -> Include files not found: ['cublas_v2.h', 'cuda.h', 'cuda_profiler_api.h', 'cuda_runtime.h', 'cufft.h', 'curand.h', 'cusparse.h', 'nvrtc.h']\n",
      "      -> Check your CFLAGS environment variable.\n",
      "  \n",
      "  ERROR: CUDA could not be found on your system.\n",
      "  \n",
      "  HINT: You are trying to build CuPy from source, which is NOT recommended for general use.\n",
      "        Please consider using binary packages instead.\n",
      "  \n",
      "  Please refer to the Installation Guide for details:\n",
      "  https://docs.cupy.dev/en/stable/install.html\n",
      "  \n",
      "  ************************************************************\n",
      "  \n",
      "  Traceback (most recent call last):\n",
      "    File \"<string>\", line 1, in <module>\n",
      "    File \"/scratch/amehrotra1/job_38027192/pip-install-azgnxc31/cupy/setup.py\", line 88, in <module>\n",
      "      ext_modules = cupy_setup_build.get_ext_modules(True, ctx)\n",
      "    File \"/scratch/amehrotra1/job_38027192/pip-install-azgnxc31/cupy/install/cupy_builder/cupy_setup_build.py\", line 449, in get_ext_modules\n",
      "      extensions = make_extensions(ctx, compiler, use_cython)\n",
      "    File \"/scratch/amehrotra1/job_38027192/pip-install-azgnxc31/cupy/install/cupy_builder/cupy_setup_build.py\", line 305, in make_extensions\n",
      "      raise Exception('Your CUDA environment is invalid. '\n",
      "  Exception: Your CUDA environment is invalid. Please check above error log.\n",
      "  ----------------------------------------\u001b[0m\n",
      "\u001b[31m  ERROR: Failed cleaning build dir for cupy\u001b[0m\n",
      "Failed to build cupy\n"
     ]
    },
    {
     "name": "stdout",
     "output_type": "stream",
     "text": [
      "Installing collected packages: numpy, fastrlock, cupy\n",
      "    Running setup.py install for cupy ... \u001b[?25lerror\n",
      "\u001b[31m    ERROR: Command errored out with exit status 1:\n",
      "     command: /cm/shared/apps/spack/cpu/opt/spack/linux-centos8-zen/gcc-8.3.1/anaconda3-2020.11-da3i7hmt6bdqbmuzq6pyt7kbm47wyrjp/bin/python -u -c 'import sys, setuptools, tokenize; sys.argv[0] = '\"'\"'/scratch/amehrotra1/job_38027192/pip-install-azgnxc31/cupy/setup.py'\"'\"'; __file__='\"'\"'/scratch/amehrotra1/job_38027192/pip-install-azgnxc31/cupy/setup.py'\"'\"';f=getattr(tokenize, '\"'\"'open'\"'\"', open)(__file__);code=f.read().replace('\"'\"'\\r\\n'\"'\"', '\"'\"'\\n'\"'\"');f.close();exec(compile(code, __file__, '\"'\"'exec'\"'\"'))' install --record /scratch/amehrotra1/job_38027192/pip-record-xjmcbx0r/install-record.txt --single-version-externally-managed --user --prefix= --compile --install-headers /home/amehrotra1/.local/include/python3.8/cupy\n",
      "         cwd: /scratch/amehrotra1/job_38027192/pip-install-azgnxc31/cupy/\n",
      "    Complete output (62 lines):\n",
      "    Clearing directory: /scratch/amehrotra1/job_38027192/pip-install-azgnxc31/cupy/cupy/.data\n",
      "    \n",
      "    -------- Configuring Module: cuda --------\n",
      "    cc1plus: warning: command line option ‘-Wstrict-prototypes’ is valid for C/ObjC but not for C++\n",
      "    /scratch/amehrotra1/job_38027192/tmpxdvxrfo4/a.cpp:1:10: fatal error: cublas_v2.h: No such file or directory\n",
      "     #include <cublas_v2.h>\n",
      "              ^~~~~~~~~~~~~\n",
      "    compilation terminated.\n",
      "    command 'gcc' failed with exit status 1\n",
      "    cc1plus: warning: command line option ‘-Wstrict-prototypes’ is valid for C/ObjC but not for C++\n",
      "    /scratch/amehrotra1/job_38027192/tmp95wwpbzx/a.cpp:2:18: fatal error: cuda_runtime_api.h: No such file or directory\n",
      "             #include <cuda_runtime_api.h>\n",
      "                      ^~~~~~~~~~~~~~~~~~~~\n",
      "    compilation terminated.\n",
      "    **************************************************\n",
      "    *** WARNING: Cannot check compute capability\n",
      "    command 'gcc' failed with exit status 1\n",
      "    **************************************************\n",
      "    \n",
      "    ************************************************************\n",
      "    * CuPy Configuration Summary                               *\n",
      "    ************************************************************\n",
      "    \n",
      "    Build Environment:\n",
      "      Include directories: ['/scratch/amehrotra1/job_38027192/pip-install-azgnxc31/cupy/cupy/_core/include/cupy/cub', '/scratch/amehrotra1/job_38027192/pip-install-azgnxc31/cupy/cupy/_core/include']\n",
      "      Library directories: []\n",
      "      nvcc command       : (not found)\n",
      "      hipcc command      : (not found)\n",
      "    \n",
      "    Environment Variables:\n",
      "      CFLAGS          : (none)\n",
      "      LDFLAGS         : (none)\n",
      "      LIBRARY_PATH    : /cm/shared/apps/spack/cpu/opt/spack/linux-centos8-zen/gcc-8.3.1/anaconda3-2020.11-da3i7hmt6bdqbmuzq6pyt7kbm47wyrjp/lib:/cm/shared/apps/slurm/current/lib64/slurm:/cm/shared/apps/slurm/current/lib64\n",
      "      CUDA_PATH       : (none)\n",
      "      NVCC            : (none)\n",
      "      HIPCC           : (none)\n",
      "      ROCM_HOME       : (none)\n",
      "    \n",
      "    Modules:\n",
      "      cuda      : No\n",
      "        -> Include files not found: ['cublas_v2.h', 'cuda.h', 'cuda_profiler_api.h', 'cuda_runtime.h', 'cufft.h', 'curand.h', 'cusparse.h', 'nvrtc.h']\n",
      "        -> Check your CFLAGS environment variable.\n",
      "    \n",
      "    ERROR: CUDA could not be found on your system.\n",
      "    \n",
      "    HINT: You are trying to build CuPy from source, which is NOT recommended for general use.\n",
      "          Please consider using binary packages instead.\n",
      "    \n",
      "    Please refer to the Installation Guide for details:\n",
      "    https://docs.cupy.dev/en/stable/install.html\n",
      "    \n",
      "    ************************************************************\n",
      "    \n",
      "    Traceback (most recent call last):\n",
      "      File \"<string>\", line 1, in <module>\n",
      "      File \"/scratch/amehrotra1/job_38027192/pip-install-azgnxc31/cupy/setup.py\", line 88, in <module>\n",
      "        ext_modules = cupy_setup_build.get_ext_modules(True, ctx)\n",
      "      File \"/scratch/amehrotra1/job_38027192/pip-install-azgnxc31/cupy/install/cupy_builder/cupy_setup_build.py\", line 449, in get_ext_modules\n",
      "        extensions = make_extensions(ctx, compiler, use_cython)\n",
      "      File \"/scratch/amehrotra1/job_38027192/pip-install-azgnxc31/cupy/install/cupy_builder/cupy_setup_build.py\", line 305, in make_extensions\n",
      "        raise Exception('Your CUDA environment is invalid. '\n",
      "    Exception: Your CUDA environment is invalid. Please check above error log.\n",
      "    ----------------------------------------\u001b[0m\n",
      "\u001b[31mERROR: Command errored out with exit status 1: /cm/shared/apps/spack/cpu/opt/spack/linux-centos8-zen/gcc-8.3.1/anaconda3-2020.11-da3i7hmt6bdqbmuzq6pyt7kbm47wyrjp/bin/python -u -c 'import sys, setuptools, tokenize; sys.argv[0] = '\"'\"'/scratch/amehrotra1/job_38027192/pip-install-azgnxc31/cupy/setup.py'\"'\"'; __file__='\"'\"'/scratch/amehrotra1/job_38027192/pip-install-azgnxc31/cupy/setup.py'\"'\"';f=getattr(tokenize, '\"'\"'open'\"'\"', open)(__file__);code=f.read().replace('\"'\"'\\r\\n'\"'\"', '\"'\"'\\n'\"'\"');f.close();exec(compile(code, __file__, '\"'\"'exec'\"'\"'))' install --record /scratch/amehrotra1/job_38027192/pip-record-xjmcbx0r/install-record.txt --single-version-externally-managed --user --prefix= --compile --install-headers /home/amehrotra1/.local/include/python3.8/cupy Check the logs for full command output.\u001b[0m\n",
      "\u001b[?25hNote: you may need to restart the kernel to use updated packages.\n"
     ]
    }
   ],
   "source": [
    "pip install cupy"
   ]
  },
  {
   "cell_type": "markdown",
   "metadata": {},
   "source": [
    "## Creating a Dask Array"
   ]
  },
  {
   "cell_type": "code",
   "execution_count": null,
   "metadata": {},
   "outputs": [],
   "source": [
    "x = da.from_array(cp.ones(15), chunks=(5,))"
   ]
  },
  {
   "cell_type": "markdown",
   "metadata": {},
   "source": [
    "This command creates a Dask array with 15 elements divided into 3 chunks of size 5. Each chunk can be processed in parallel for efficient computation.\n",
    "\n",
    "The cp.ones(15) creates a CuPy array filled with ones on the GPU, allowing Dask to leverage GPU memory for enhanced performance."
   ]
  },
  {
   "cell_type": "markdown",
   "metadata": {},
   "source": [
    "## Visualizing the Computation Graph:\n",
    "\n",
    "`visualize()` calls `graphviz` to create a graphical representation of the graph"
   ]
  },
  {
   "cell_type": "code",
   "execution_count": null,
   "metadata": {},
   "outputs": [],
   "source": [
    "x.visualize()"
   ]
  },
  {
   "cell_type": "markdown",
   "metadata": {},
   "source": [
    "Then, lets create a new Dask array by adding 1 to each element of the Dask array x."
   ]
  },
  {
   "cell_type": "code",
   "execution_count": null,
   "metadata": {},
   "outputs": [],
   "source": [
    "(x+1).visualize()"
   ]
  },
  {
   "cell_type": "markdown",
   "metadata": {},
   "source": [
    "After adding 1 to each element of x, the sum() method is called to compute the sum of all elements in the resulting Dask array."
   ]
  },
  {
   "cell_type": "code",
   "execution_count": null,
   "metadata": {},
   "outputs": [],
   "source": [
    "(x+1).sum().visualize()"
   ]
  },
  {
   "cell_type": "markdown",
   "metadata": {},
   "source": [
    "Let's try with a more complex example."
   ]
  },
  {
   "cell_type": "code",
   "execution_count": null,
   "metadata": {},
   "outputs": [],
   "source": [
    "m = da.ones((15, 15), chunks=(5,5))"
   ]
  },
  {
   "cell_type": "code",
   "execution_count": null,
   "metadata": {},
   "outputs": [],
   "source": [
    "(m.T + 1).visualize()"
   ]
  },
  {
   "cell_type": "code",
   "execution_count": null,
   "metadata": {},
   "outputs": [],
   "source": [
    "(m.T + m).visualize()"
   ]
  },
  {
   "cell_type": "code",
   "execution_count": null,
   "metadata": {},
   "outputs": [],
   "source": [
    "(m.dot(m.T + 1) - m.mean(axis=0)).visualize()"
   ]
  },
  {
   "cell_type": "code",
   "execution_count": null,
   "metadata": {},
   "outputs": [],
   "source": [
    "(m.dot(m.T + 1) - m.mean(axis=0)).compute()"
   ]
  },
  {
   "cell_type": "markdown",
   "metadata": {},
   "source": [
    "## Submit Ticket\n",
    "If you find anything that needs to be changed, edited, or if you would like to provide feedback or contribute to the notebook, please submit a ticket by contacting us at:\n",
    "\n",
    "Email: consult@sdsc.edu\n",
    "\n",
    "We appreciate your input and will review your suggestions promptly!"
   ]
  }
 ],
 "metadata": {
  "kernelspec": {
   "display_name": "Python 3",
   "language": "python",
   "name": "python3"
  },
  "language_info": {
   "codemirror_mode": {
    "name": "ipython",
    "version": 3
   },
   "file_extension": ".py",
   "mimetype": "text/x-python",
   "name": "python",
   "nbconvert_exporter": "python",
   "pygments_lexer": "ipython3",
   "version": "3.8.5"
  }
 },
 "nbformat": 4,
 "nbformat_minor": 4
}
